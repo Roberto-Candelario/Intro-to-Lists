{
 "cells": [
  {
   "cell_type": "markdown",
   "id": "464c1797",
   "metadata": {
    "papermill": {
     "duration": 0.011549,
     "end_time": "2022-07-26T21:05:25.916441",
     "exception": false,
     "start_time": "2022-07-26T21:05:25.904892",
     "status": "completed"
    },
    "tags": []
   },
   "source": [
    "**This notebook is an exercise in the [Intro to Programming](https://www.kaggle.com/learn/intro-to-programming) course.  You can reference the tutorial at [this link](https://www.kaggle.com/alexisbcook/intro-to-lists).**\n",
    "\n",
    "---\n"
   ]
  },
  {
   "cell_type": "markdown",
   "id": "ce716cde",
   "metadata": {
    "papermill": {
     "duration": 0.009055,
     "end_time": "2022-07-26T21:05:25.934693",
     "exception": false,
     "start_time": "2022-07-26T21:05:25.925638",
     "status": "completed"
    },
    "tags": []
   },
   "source": [
    "In the tutorial, you learned how to define and modify Python lists.  In this exercise, you will use your new knowledge to solve several problems.\n",
    "\n",
    "# Set up the notebook\n",
    "\n",
    "Run the next code cell without changes to set up the notebook."
   ]
  },
  {
   "cell_type": "code",
   "execution_count": 1,
   "id": "58f01f0f",
   "metadata": {
    "execution": {
     "iopub.execute_input": "2022-07-26T21:05:25.954341Z",
     "iopub.status.busy": "2022-07-26T21:05:25.953510Z",
     "iopub.status.idle": "2022-07-26T21:05:26.019431Z",
     "shell.execute_reply": "2022-07-26T21:05:26.018220Z"
    },
    "papermill": {
     "duration": 0.080686,
     "end_time": "2022-07-26T21:05:26.022302",
     "exception": false,
     "start_time": "2022-07-26T21:05:25.941616",
     "status": "completed"
    },
    "tags": []
   },
   "outputs": [
    {
     "name": "stdout",
     "output_type": "stream",
     "text": [
      "Setup complete.\n"
     ]
    }
   ],
   "source": [
    "from learntools.core import binder\n",
    "binder.bind(globals())\n",
    "from learntools.intro_to_programming.ex5 import *\n",
    "print('Setup complete.')"
   ]
  },
  {
   "cell_type": "markdown",
   "id": "6c18cdf5",
   "metadata": {
    "papermill": {
     "duration": 0.006285,
     "end_time": "2022-07-26T21:05:26.035487",
     "exception": false,
     "start_time": "2022-07-26T21:05:26.029202",
     "status": "completed"
    },
    "tags": []
   },
   "source": [
    "# Question 1\n",
    "\n",
    "You own a restaurant with five food dishes, organized in the Python list `menu` below.  One day, you decide to:\n",
    "- remove bean soup (`'bean soup'`) from the menu, and\n",
    "- add roasted beet salad (`'roasted beet salad'`) to the menu.\n",
    "\n",
    "Implement this change to the list below.  While completing this task, \n",
    "- do not change the line that creates the `menu` list.  \n",
    "- your answer should use `.remove()` and `.append()`.  "
   ]
  },
  {
   "cell_type": "code",
   "execution_count": 2,
   "id": "596a7091",
   "metadata": {
    "execution": {
     "iopub.execute_input": "2022-07-26T21:05:26.049997Z",
     "iopub.status.busy": "2022-07-26T21:05:26.049529Z",
     "iopub.status.idle": "2022-07-26T21:05:26.062572Z",
     "shell.execute_reply": "2022-07-26T21:05:26.061195Z"
    },
    "papermill": {
     "duration": 0.023011,
     "end_time": "2022-07-26T21:05:26.064895",
     "exception": false,
     "start_time": "2022-07-26T21:05:26.041884",
     "status": "completed"
    },
    "tags": []
   },
   "outputs": [
    {
     "data": {
      "application/javascript": [
       "parent.postMessage({\"jupyterEvent\": \"custom.exercise_interaction\", \"data\": {\"outcomeType\": 1, \"valueTowardsCompletion\": 0.2, \"interactionType\": 1, \"questionType\": 2, \"questionId\": \"1_FoodMenu\", \"learnToolsVersion\": \"0.3.4\", \"failureMessage\": \"\", \"exceptionClass\": \"\", \"trace\": \"\"}}, \"*\")"
      ],
      "text/plain": [
       "<IPython.core.display.Javascript object>"
      ]
     },
     "metadata": {},
     "output_type": "display_data"
    },
    {
     "data": {
      "text/markdown": [
       "<span style=\"color:#33cc33\">Correct</span>"
      ],
      "text/plain": [
       "Correct"
      ]
     },
     "metadata": {},
     "output_type": "display_data"
    }
   ],
   "source": [
    "# Do not change: Initial menu for your restaurant\n",
    "menu = ['stewed meat with onions', 'bean soup', 'risotto with trout and shrimp',\n",
    "       'fish soup with cream and onion', 'gyro']\n",
    "\n",
    "# TODO: remove 'bean soup', and add 'roasted beet salad' to the end of the menu\n",
    "menu.remove('bean soup')\n",
    "menu.append('roasted beet salad')\n",
    "\n",
    "# Do not change: Check your answer\n",
    "q1.check()"
   ]
  },
  {
   "cell_type": "code",
   "execution_count": 3,
   "id": "0b9918df",
   "metadata": {
    "execution": {
     "iopub.execute_input": "2022-07-26T21:05:26.080854Z",
     "iopub.status.busy": "2022-07-26T21:05:26.079992Z",
     "iopub.status.idle": "2022-07-26T21:05:26.084258Z",
     "shell.execute_reply": "2022-07-26T21:05:26.083356Z"
    },
    "papermill": {
     "duration": 0.014336,
     "end_time": "2022-07-26T21:05:26.086492",
     "exception": false,
     "start_time": "2022-07-26T21:05:26.072156",
     "status": "completed"
    },
    "tags": []
   },
   "outputs": [],
   "source": [
    "# Uncomment to see a hint\n",
    "#q1.hint()\n",
    "\n",
    "# Uncomment to see the solution\n",
    "#q1.solution()"
   ]
  },
  {
   "cell_type": "markdown",
   "id": "670f57d6",
   "metadata": {
    "papermill": {
     "duration": 0.006402,
     "end_time": "2022-07-26T21:05:26.099865",
     "exception": false,
     "start_time": "2022-07-26T21:05:26.093463",
     "status": "completed"
    },
    "tags": []
   },
   "source": [
    "# Question 2\n",
    "\n",
    "The list `num_customers` contains the number of customers who came into your restaurant every day over the last month (which lasted thirty days).  Fill in values for each of the following:\n",
    "- `avg_first_seven` - average number of customers who visited in the first seven days\n",
    "- `avg_last_seven` - average number of customers who visited in the last seven days\n",
    "- `max_month` - number of customers on the day that got the most customers in the last month\n",
    "- `min_month` - number of customers on the day that got the least customers in the last month\n",
    "\n",
    "Answer this question by writing code.  For instance, if you have to find the minimum value in a list, use `min()` instead of scanning for the smallest value and directly filling in a number."
   ]
  },
  {
   "cell_type": "code",
   "execution_count": 4,
   "id": "17d082b9",
   "metadata": {
    "execution": {
     "iopub.execute_input": "2022-07-26T21:05:26.115399Z",
     "iopub.status.busy": "2022-07-26T21:05:26.114806Z",
     "iopub.status.idle": "2022-07-26T21:05:26.125348Z",
     "shell.execute_reply": "2022-07-26T21:05:26.124300Z"
    },
    "papermill": {
     "duration": 0.021125,
     "end_time": "2022-07-26T21:05:26.127631",
     "exception": false,
     "start_time": "2022-07-26T21:05:26.106506",
     "status": "completed"
    },
    "tags": []
   },
   "outputs": [
    {
     "data": {
      "application/javascript": [
       "parent.postMessage({\"jupyterEvent\": \"custom.exercise_interaction\", \"data\": {\"outcomeType\": 1, \"valueTowardsCompletion\": 0.2, \"interactionType\": 1, \"questionType\": 1, \"questionId\": \"2_NumCustomers\", \"learnToolsVersion\": \"0.3.4\", \"failureMessage\": \"\", \"exceptionClass\": \"\", \"trace\": \"\"}}, \"*\")"
      ],
      "text/plain": [
       "<IPython.core.display.Javascript object>"
      ]
     },
     "metadata": {},
     "output_type": "display_data"
    },
    {
     "data": {
      "text/markdown": [
       "<span style=\"color:#33cc33\">Correct</span>"
      ],
      "text/plain": [
       "Correct"
      ]
     },
     "metadata": {},
     "output_type": "display_data"
    }
   ],
   "source": [
    "# Do not change: Number of customers each day for the last month\n",
    "num_customers = [137, 147, 135, 128, 170, 174, 165, 146, 126, 159,\n",
    "                 141, 148, 132, 147, 168, 153, 170, 161, 148, 152,\n",
    "                 141, 151, 131, 149, 164, 163, 143, 143, 166, 171]\n",
    "\n",
    "# TODO: Fill in values for the variables below\n",
    "avg_first_seven = sum(num_customers[:7])/ 7\n",
    "avg_last_seven = sum(num_customers[-7:])/7\n",
    "max_month = max(num_customers)\n",
    "min_month = min(num_customers)\n",
    "\n",
    "# Do not change: Check your answer\n",
    "q2.check()"
   ]
  },
  {
   "cell_type": "code",
   "execution_count": 5,
   "id": "b7624a2d",
   "metadata": {
    "execution": {
     "iopub.execute_input": "2022-07-26T21:05:26.144000Z",
     "iopub.status.busy": "2022-07-26T21:05:26.143338Z",
     "iopub.status.idle": "2022-07-26T21:05:26.147376Z",
     "shell.execute_reply": "2022-07-26T21:05:26.146368Z"
    },
    "papermill": {
     "duration": 0.014887,
     "end_time": "2022-07-26T21:05:26.149656",
     "exception": false,
     "start_time": "2022-07-26T21:05:26.134769",
     "status": "completed"
    },
    "tags": []
   },
   "outputs": [],
   "source": [
    "# Uncomment to see a hint\n",
    "#q2.hint()\n",
    "\n",
    "# Uncomment to see the solution\n",
    "#q2.solution()"
   ]
  },
  {
   "cell_type": "markdown",
   "id": "a9234051",
   "metadata": {
    "papermill": {
     "duration": 0.006986,
     "end_time": "2022-07-26T21:05:26.163801",
     "exception": false,
     "start_time": "2022-07-26T21:05:26.156815",
     "status": "completed"
    },
    "tags": []
   },
   "source": [
    "# Question 3\n",
    "\n",
    "In the tutorial, we gave an example of a Python string with information that was better as a list."
   ]
  },
  {
   "cell_type": "code",
   "execution_count": 6,
   "id": "991ca841",
   "metadata": {
    "execution": {
     "iopub.execute_input": "2022-07-26T21:05:26.179577Z",
     "iopub.status.busy": "2022-07-26T21:05:26.179191Z",
     "iopub.status.idle": "2022-07-26T21:05:26.183986Z",
     "shell.execute_reply": "2022-07-26T21:05:26.183018Z"
    },
    "papermill": {
     "duration": 0.015471,
     "end_time": "2022-07-26T21:05:26.186283",
     "exception": false,
     "start_time": "2022-07-26T21:05:26.170812",
     "status": "completed"
    },
    "tags": []
   },
   "outputs": [],
   "source": [
    "flowers = \"pink primrose,hard-leaved pocket orchid,canterbury bells,sweet pea,english marigold,tiger lily,moon orchid,bird of paradise,monkshood,globe thistle\""
   ]
  },
  {
   "cell_type": "markdown",
   "id": "c19d45e8",
   "metadata": {
    "papermill": {
     "duration": 0.006894,
     "end_time": "2022-07-26T21:05:26.200696",
     "exception": false,
     "start_time": "2022-07-26T21:05:26.193802",
     "status": "completed"
    },
    "tags": []
   },
   "source": [
    "You can actually use Python to quickly turn this string into a list with `.split()`.  In the parentheses, we need to provide the character should be used to mark the end of one list item and the beginning of another, and enclose it in quotation marks.  In this case, that character is a comma."
   ]
  },
  {
   "cell_type": "code",
   "execution_count": 7,
   "id": "a14154f7",
   "metadata": {
    "execution": {
     "iopub.execute_input": "2022-07-26T21:05:26.217971Z",
     "iopub.status.busy": "2022-07-26T21:05:26.217367Z",
     "iopub.status.idle": "2022-07-26T21:05:26.222865Z",
     "shell.execute_reply": "2022-07-26T21:05:26.221361Z"
    },
    "papermill": {
     "duration": 0.017554,
     "end_time": "2022-07-26T21:05:26.225556",
     "exception": false,
     "start_time": "2022-07-26T21:05:26.208002",
     "status": "completed"
    },
    "tags": []
   },
   "outputs": [
    {
     "name": "stdout",
     "output_type": "stream",
     "text": [
      "['pink primrose', 'hard-leaved pocket orchid', 'canterbury bells', 'sweet pea', 'english marigold', 'tiger lily', 'moon orchid', 'bird of paradise', 'monkshood', 'globe thistle']\n"
     ]
    }
   ],
   "source": [
    " print(flowers.split(\",\"))"
   ]
  },
  {
   "cell_type": "markdown",
   "id": "ce68a8e1",
   "metadata": {
    "papermill": {
     "duration": 0.00684,
     "end_time": "2022-07-26T21:05:26.240074",
     "exception": false,
     "start_time": "2022-07-26T21:05:26.233234",
     "status": "completed"
    },
    "tags": []
   },
   "source": [
    "Now it is your turn to try this out!  Create two Python lists:\n",
    "- `letters` should be a Python list where each entry is an uppercase letter of the English alphabet.  For instance, the first two entries should be `\"A\"` and `\"B\"`, and the final two entries should be `\"Y\"` and `\"Z\"`.  Use the string `alphabet` to create this list.\n",
    "- `address` should be a Python list where each row in `address` is a different item in the list.  Currently, each row in `address` is separated by a comma. "
   ]
  },
  {
   "cell_type": "code",
   "execution_count": 8,
   "id": "4e3c8959",
   "metadata": {
    "execution": {
     "iopub.execute_input": "2022-07-26T21:05:26.256141Z",
     "iopub.status.busy": "2022-07-26T21:05:26.255752Z",
     "iopub.status.idle": "2022-07-26T21:05:26.265360Z",
     "shell.execute_reply": "2022-07-26T21:05:26.264235Z"
    },
    "papermill": {
     "duration": 0.020686,
     "end_time": "2022-07-26T21:05:26.267895",
     "exception": false,
     "start_time": "2022-07-26T21:05:26.247209",
     "status": "completed"
    },
    "tags": []
   },
   "outputs": [
    {
     "data": {
      "application/javascript": [
       "parent.postMessage({\"jupyterEvent\": \"custom.exercise_interaction\", \"data\": {\"outcomeType\": 4, \"interactionType\": 1, \"questionType\": 1, \"questionId\": \"3_SplitString\", \"learnToolsVersion\": \"0.3.4\", \"valueTowardsCompletion\": 0.0, \"failureMessage\": \"\", \"exceptionClass\": \"\", \"trace\": \"\"}}, \"*\")"
      ],
      "text/plain": [
       "<IPython.core.display.Javascript object>"
      ]
     },
     "metadata": {},
     "output_type": "display_data"
    },
    {
     "data": {
      "text/markdown": [
       "<span style=\"color:#ccaa33\">Check:</span> When you've updated the starter code, `check()` will tell you whether your code is correct. You need to update the code that creates variables `letters`, `formatted_address`"
      ],
      "text/plain": [
       "Check: When you've updated the starter code, `check()` will tell you whether your code is correct. You need to update the code that creates variables `letters`, `formatted_address`"
      ]
     },
     "metadata": {},
     "output_type": "display_data"
    }
   ],
   "source": [
    "# DO not change: Define two Python strings\n",
    "alphabet = \"A.B.C.D.E.F.G.H.I.J.K.L.M.N.O.P.Q.R.S.T.U.V.W.X.Y.Z\"\n",
    "address = \"Mr. H. Potter,The cupboard under the Stairs,4 Privet Drive,Little Whinging,Surrey\"\n",
    "\n",
    "# TODO: Convert strings into Python lists\n",
    "letters = ____\n",
    "formatted_address = ____\n",
    "\n",
    "# Do not change: Check your answer\n",
    "q3.check()"
   ]
  },
  {
   "cell_type": "code",
   "execution_count": 9,
   "id": "4807c2fc",
   "metadata": {
    "execution": {
     "iopub.execute_input": "2022-07-26T21:05:26.284731Z",
     "iopub.status.busy": "2022-07-26T21:05:26.284333Z",
     "iopub.status.idle": "2022-07-26T21:05:26.288804Z",
     "shell.execute_reply": "2022-07-26T21:05:26.287477Z"
    },
    "papermill": {
     "duration": 0.015275,
     "end_time": "2022-07-26T21:05:26.290868",
     "exception": false,
     "start_time": "2022-07-26T21:05:26.275593",
     "status": "completed"
    },
    "tags": []
   },
   "outputs": [],
   "source": [
    "# Uncomment to see a hint\n",
    "#q3.hint()\n",
    "\n",
    "# Uncomment to see the solution\n",
    "#q3.solution()"
   ]
  },
  {
   "cell_type": "markdown",
   "id": "3823577f",
   "metadata": {
    "papermill": {
     "duration": 0.007414,
     "end_time": "2022-07-26T21:05:26.306026",
     "exception": false,
     "start_time": "2022-07-26T21:05:26.298612",
     "status": "completed"
    },
    "tags": []
   },
   "source": [
    "# Question 4\n",
    "\n",
    "In the Python course, you'll learn all about **list comprehensions**, which allow you to create a list based on the values in another list.  In this question, you'll get a brief preview of how they work.\n",
    "\n",
    "Say we're working with the list below."
   ]
  },
  {
   "cell_type": "code",
   "execution_count": 10,
   "id": "6920d376",
   "metadata": {
    "execution": {
     "iopub.execute_input": "2022-07-26T21:05:26.323493Z",
     "iopub.status.busy": "2022-07-26T21:05:26.323127Z",
     "iopub.status.idle": "2022-07-26T21:05:26.327545Z",
     "shell.execute_reply": "2022-07-26T21:05:26.326605Z"
    },
    "papermill": {
     "duration": 0.016023,
     "end_time": "2022-07-26T21:05:26.329642",
     "exception": false,
     "start_time": "2022-07-26T21:05:26.313619",
     "status": "completed"
    },
    "tags": []
   },
   "outputs": [],
   "source": [
    "test_ratings = [1, 2, 3, 4, 5]"
   ]
  },
  {
   "cell_type": "markdown",
   "id": "9ebc0b69",
   "metadata": {
    "papermill": {
     "duration": 0.007389,
     "end_time": "2022-07-26T21:05:26.344861",
     "exception": false,
     "start_time": "2022-07-26T21:05:26.337472",
     "status": "completed"
    },
    "tags": []
   },
   "source": [
    "Then we can use this list (`test_ratings`) to create a new list (`test_liked`) where each item has been turned into a boolean, depending on whether or not the item is greater than or equal to four."
   ]
  },
  {
   "cell_type": "code",
   "execution_count": 11,
   "id": "6eef14e8",
   "metadata": {
    "execution": {
     "iopub.execute_input": "2022-07-26T21:05:26.362757Z",
     "iopub.status.busy": "2022-07-26T21:05:26.361766Z",
     "iopub.status.idle": "2022-07-26T21:05:26.367880Z",
     "shell.execute_reply": "2022-07-26T21:05:26.366482Z"
    },
    "papermill": {
     "duration": 0.017678,
     "end_time": "2022-07-26T21:05:26.370233",
     "exception": false,
     "start_time": "2022-07-26T21:05:26.352555",
     "status": "completed"
    },
    "tags": []
   },
   "outputs": [
    {
     "name": "stdout",
     "output_type": "stream",
     "text": [
      "[False, False, False, True, True]\n"
     ]
    }
   ],
   "source": [
    "test_liked = [i>=4 for i in test_ratings]\n",
    "print(test_liked)"
   ]
  },
  {
   "cell_type": "markdown",
   "id": "c010ee4a",
   "metadata": {
    "papermill": {
     "duration": 0.008743,
     "end_time": "2022-07-26T21:05:26.387017",
     "exception": false,
     "start_time": "2022-07-26T21:05:26.378274",
     "status": "completed"
    },
    "tags": []
   },
   "source": [
    "In this question, you'll use this list comprehension to define a function `percentage_liked()` that takes one argument as input:\n",
    "- `ratings`: list of ratings that people gave to a movie, where each rating is a number between 1-5, inclusive\n",
    "\n",
    "We say someone liked the movie, if they gave a rating of either 4 or 5.  Your function should return the percentage of people who liked the movie.\n",
    "\n",
    "For instance, if we supply a value of `[1, 2, 3, 4, 5, 4, 5, 1]`, then 50% (4/8) of the people liked the movie, and the function should return `0.5`.\n",
    "\n",
    "Part of the function has already been completed for you.  You need only use `list_liked` to calculate `percentage_liked`."
   ]
  },
  {
   "cell_type": "code",
   "execution_count": 12,
   "id": "734ac655",
   "metadata": {
    "execution": {
     "iopub.execute_input": "2022-07-26T21:05:26.405566Z",
     "iopub.status.busy": "2022-07-26T21:05:26.404872Z",
     "iopub.status.idle": "2022-07-26T21:05:26.414681Z",
     "shell.execute_reply": "2022-07-26T21:05:26.413710Z"
    },
    "papermill": {
     "duration": 0.021327,
     "end_time": "2022-07-26T21:05:26.416893",
     "exception": false,
     "start_time": "2022-07-26T21:05:26.395566",
     "status": "completed"
    },
    "tags": []
   },
   "outputs": [
    {
     "data": {
      "application/javascript": [
       "parent.postMessage({\"jupyterEvent\": \"custom.exercise_interaction\", \"data\": {\"outcomeType\": 2, \"failureMessage\": \"Expected return value of `0.5` given `ratings=[1, 2, 3, 4, 5, 4, 5, 1]`, but got `<learntools.core.constants.PlaceholderValue object at 0x7f5e36df96d0>` instead.\", \"interactionType\": 1, \"questionType\": 2, \"questionId\": \"4_PercentageLiked\", \"learnToolsVersion\": \"0.3.4\", \"valueTowardsCompletion\": 0.0, \"exceptionClass\": \"\", \"trace\": \"\"}}, \"*\")"
      ],
      "text/plain": [
       "<IPython.core.display.Javascript object>"
      ]
     },
     "metadata": {},
     "output_type": "display_data"
    },
    {
     "data": {
      "text/markdown": [
       "<span style=\"color:#cc3333\">Incorrect:</span> Expected return value of `0.5` given `ratings=[1, 2, 3, 4, 5, 4, 5, 1]`, but got `<learntools.core.constants.PlaceholderValue object at 0x7f5e36df96d0>` instead."
      ],
      "text/plain": [
       "Incorrect: Expected return value of `0.5` given `ratings=[1, 2, 3, 4, 5, 4, 5, 1]`, but got `<learntools.core.constants.PlaceholderValue object at 0x7f5e36df96d0>` instead."
      ]
     },
     "metadata": {},
     "output_type": "display_data"
    }
   ],
   "source": [
    "\n",
    "def percentage_liked(ratings):\n",
    "    list_liked = [i>=4 for i in ratings]\n",
    "    # TODO: Complete the function\n",
    "    percentage_liked = ____\n",
    "    return percentage_liked\n",
    "\n",
    "# Do not change: should return 0.5\n",
    "percentage_liked([1, 2, 3, 4, 5, 4, 5, 1])\n",
    "\n",
    "# Do not change: Check your answer\n",
    "q4.check()"
   ]
  },
  {
   "cell_type": "code",
   "execution_count": 13,
   "id": "ed9838e7",
   "metadata": {
    "execution": {
     "iopub.execute_input": "2022-07-26T21:05:26.435689Z",
     "iopub.status.busy": "2022-07-26T21:05:26.435300Z",
     "iopub.status.idle": "2022-07-26T21:05:26.440573Z",
     "shell.execute_reply": "2022-07-26T21:05:26.439221Z"
    },
    "papermill": {
     "duration": 0.017705,
     "end_time": "2022-07-26T21:05:26.443075",
     "exception": false,
     "start_time": "2022-07-26T21:05:26.425370",
     "status": "completed"
    },
    "tags": []
   },
   "outputs": [],
   "source": [
    "# Uncomment to see a hint\n",
    "#q4.hint()\n",
    "\n",
    "# Uncomment to see the solution\n",
    "#q4.solution()"
   ]
  },
  {
   "cell_type": "markdown",
   "id": "490c26b6",
   "metadata": {
    "papermill": {
     "duration": 0.00789,
     "end_time": "2022-07-26T21:05:26.459457",
     "exception": false,
     "start_time": "2022-07-26T21:05:26.451567",
     "status": "completed"
    },
    "tags": []
   },
   "source": [
    "# 🌶️ Question 5\n",
    " \n",
    "Say you're doing analytics for a website.  You need to write a function that returns the percentage growth in the total number of users relative to a specified number of years ago.\n",
    "\n",
    "Your function `percentage_growth()` should take two arguments as input:\n",
    "- `num_users` = Python list with the total number of users each year.  So `num_users[0]` is the total number of users in the first year, `num_users[1]` is the total number of users in the second year, and so on.  The final entry in the list gives the total number of users in the most recently completed year.\n",
    "- `yrs_ago` = number of years to go back in time when calculating the growth percentage\n",
    "\n",
    "For instance, say `num_users = [920344, 1043553, 1204334, 1458996, 1503323, 1593432, 1623463, 1843064, 1930992, 2001078]`.\n",
    "- if `yrs_ago = 1`, we want the function to return a value of about `0.036`. This corresponds to a percentage growth of approximately 3.6%, calculated as (2001078 - 1930992)/1930992.\n",
    "- if `years_ago = 7`, we would want to return approximately `0.66`.  This corresponds to a percentage growth of approximately 66%, calculated as (2001078 - 1204334)/1204334.\n",
    "\n",
    "Your coworker sent you a draft of a function, but it doesn't seem to be doing the correct calculation.  Can you figure out what has gone wrong and make the needed changes?"
   ]
  },
  {
   "cell_type": "code",
   "execution_count": 14,
   "id": "b8a21c19",
   "metadata": {
    "execution": {
     "iopub.execute_input": "2022-07-26T21:05:26.478052Z",
     "iopub.status.busy": "2022-07-26T21:05:26.477606Z",
     "iopub.status.idle": "2022-07-26T21:05:26.492403Z",
     "shell.execute_reply": "2022-07-26T21:05:26.490710Z"
    },
    "papermill": {
     "duration": 0.026847,
     "end_time": "2022-07-26T21:05:26.494769",
     "exception": false,
     "start_time": "2022-07-26T21:05:26.467922",
     "status": "completed"
    },
    "tags": []
   },
   "outputs": [
    {
     "name": "stdout",
     "output_type": "stream",
     "text": [
      "0.0\n",
      "0.2807272117129434\n"
     ]
    },
    {
     "data": {
      "application/javascript": [
       "parent.postMessage({\"jupyterEvent\": \"custom.exercise_interaction\", \"data\": {\"outcomeType\": 2, \"failureMessage\": \"Expected return value of `0.03629533421163837` given `num_users=[920344, 1043553, 1204334, 1458996, 1503323, 1593432, 1623463, 1843064, 1930992, 2001078]`, `yrs_ago=1`, but got `0.0` instead.\", \"interactionType\": 1, \"questionType\": 2, \"questionId\": \"5_WebsiteAnalytics\", \"learnToolsVersion\": \"0.3.4\", \"valueTowardsCompletion\": 0.0, \"exceptionClass\": \"\", \"trace\": \"\"}}, \"*\")"
      ],
      "text/plain": [
       "<IPython.core.display.Javascript object>"
      ]
     },
     "metadata": {},
     "output_type": "display_data"
    },
    {
     "data": {
      "text/markdown": [
       "<span style=\"color:#cc3333\">Incorrect:</span> Expected return value of `0.03629533421163837` given `num_users=[920344, 1043553, 1204334, 1458996, 1503323, 1593432, 1623463, 1843064, 1930992, 2001078]`, `yrs_ago=1`, but got `0.0` instead."
      ],
      "text/plain": [
       "Incorrect: Expected return value of `0.03629533421163837` given `num_users=[920344, 1043553, 1204334, 1458996, 1503323, 1593432, 1623463, 1843064, 1930992, 2001078]`, `yrs_ago=1`, but got `0.0` instead."
      ]
     },
     "metadata": {},
     "output_type": "display_data"
    }
   ],
   "source": [
    "# TODO: Edit the function\n",
    "def percentage_growth(num_users, yrs_ago):\n",
    "    growth = (num_users[len(num_users)-1] - num_users[len(num_users)-yrs_ago])/num_users[len(num_users)-2]\n",
    "    return growth\n",
    "\n",
    "# Do not change: Variable for calculating some test examples\n",
    "num_users_test = [920344, 1043553, 1204334, 1458996, 1503323, 1593432, 1623463, 1843064, 1930992, 2001078]\n",
    "\n",
    "# Do not change: Should return .036\n",
    "print(percentage_growth(num_users_test, 1))\n",
    "\n",
    "# Do not change: Should return 0.66\n",
    "print(percentage_growth(num_users_test, 7))\n",
    "\n",
    "# Do not change: Check your answer\n",
    "q5.check()"
   ]
  },
  {
   "cell_type": "code",
   "execution_count": 15,
   "id": "b6117732",
   "metadata": {
    "execution": {
     "iopub.execute_input": "2022-07-26T21:05:26.514375Z",
     "iopub.status.busy": "2022-07-26T21:05:26.513976Z",
     "iopub.status.idle": "2022-07-26T21:05:26.518707Z",
     "shell.execute_reply": "2022-07-26T21:05:26.517591Z"
    },
    "papermill": {
     "duration": 0.017898,
     "end_time": "2022-07-26T21:05:26.521450",
     "exception": false,
     "start_time": "2022-07-26T21:05:26.503552",
     "status": "completed"
    },
    "tags": []
   },
   "outputs": [],
   "source": [
    "# Uncomment to see a hint\n",
    "#q5.hint()\n",
    "\n",
    "# Uncomment to see the solution\n",
    "#q5.solution()"
   ]
  },
  {
   "cell_type": "markdown",
   "id": "98fcbafe",
   "metadata": {
    "papermill": {
     "duration": 0.008928,
     "end_time": "2022-07-26T21:05:26.539505",
     "exception": false,
     "start_time": "2022-07-26T21:05:26.530577",
     "status": "completed"
    },
    "tags": []
   },
   "source": [
    "# Congratulations!\n",
    "\n",
    "Congratulations for finishing the Intro to Programming course!  You should be proud of your very first steps with learning programming.  As next steps, we recommend taking:\n",
    "- the **[Python course](http://www.kaggle.com/learn/python)**, and \n",
    "- the **[Intro to Machine Learning course](https://www.kaggle.com/learn/intro-to-machine-learning)**."
   ]
  },
  {
   "cell_type": "markdown",
   "id": "ea7728fe",
   "metadata": {
    "papermill": {
     "duration": 0.008641,
     "end_time": "2022-07-26T21:05:26.558016",
     "exception": false,
     "start_time": "2022-07-26T21:05:26.549375",
     "status": "completed"
    },
    "tags": []
   },
   "source": [
    "---\n",
    "\n",
    "\n",
    "\n",
    "\n",
    "*Have questions or comments? Visit the [course discussion forum](https://www.kaggle.com/learn/intro-to-programming/discussion) to chat with other learners.*"
   ]
  }
 ],
 "metadata": {
  "kernelspec": {
   "display_name": "Python 3",
   "language": "python",
   "name": "python3"
  },
  "language_info": {
   "codemirror_mode": {
    "name": "ipython",
    "version": 3
   },
   "file_extension": ".py",
   "mimetype": "text/x-python",
   "name": "python",
   "nbconvert_exporter": "python",
   "pygments_lexer": "ipython3",
   "version": "3.7.12"
  },
  "papermill": {
   "default_parameters": {},
   "duration": 11.350321,
   "end_time": "2022-07-26T21:05:27.189008",
   "environment_variables": {},
   "exception": null,
   "input_path": "__notebook__.ipynb",
   "output_path": "__notebook__.ipynb",
   "parameters": {},
   "start_time": "2022-07-26T21:05:15.838687",
   "version": "2.3.4"
  }
 },
 "nbformat": 4,
 "nbformat_minor": 5
}
